{
 "cells": [
  {
   "cell_type": "markdown",
   "metadata": {},
   "source": [
    "# Homework 2\n",
    "http://wiki.quantsoftware.org/index.php?title=CompInvestI_Homework_2<br>\n",
    "http://wiki.quantsoftware.org/index.php?title=QSTK_Tutorial_9"
   ]
  },
  {
   "cell_type": "code",
   "execution_count": 1,
   "metadata": {},
   "outputs": [],
   "source": [
    "import pandas_datareader.data as web\n",
    "from lib import DataAccess as da\n",
    "from lib import qsdateutil as du\n",
    "from lib import EventProfiler as ep\n",
    "import datetime as dt\n",
    "import matplotlib.pyplot as plt\n",
    "import pandas as pd\n",
    "import numpy as np\n",
    "%matplotlib inline"
   ]
  },
  {
   "cell_type": "code",
   "execution_count": 2,
   "metadata": {},
   "outputs": [],
   "source": [
    "dataobj = da.DataAccess('Yahoo')"
   ]
  },
  {
   "cell_type": "markdown",
   "metadata": {},
   "source": [
    "## Event:\n",
    "The event is defined as when the actual close of the stock price drops below $5.00."
   ]
  },
  {
   "cell_type": "code",
   "execution_count": 3,
   "metadata": {},
   "outputs": [],
   "source": [
    "def event5(df_closes, cut_off = 5.0):\n",
    "    df_events = df_closes.copy()*np.NAN\n",
    "    n = len(df_closes)\n",
    "    for col in df_closes:\n",
    "        for i in range(n-1):\n",
    "            if df_closes[col][i+1]<cut_off and df_closes[col][i]>= cut_off:# and i>20 and i<(n-20):\n",
    "                df_events[col][i+1] = 1\n",
    "    return df_events"
   ]
  },
  {
   "cell_type": "markdown",
   "metadata": {},
   "source": [
    "## S&P 500 stocks 2008:\n",
    "#### Get data:"
   ]
  },
  {
   "cell_type": "code",
   "execution_count": 4,
   "metadata": {},
   "outputs": [],
   "source": [
    "#date\n",
    "startdate = dt.datetime(2008, 1, 1) \n",
    "enddate = dt.datetime(2009, 12, 31)\n",
    "dt_timeofday = dt.timedelta(hours=16)\n",
    "timestamps = du.getNYSEdays(startdate, enddate, dt_timeofday)\n",
    "\n",
    "#data\n",
    "symbols =  dataobj.get_symbols_from_list(\"sp5002008\")\n",
    "symbols.append('SPY')\n",
    "keys = ['open', 'high', 'low', 'close', 'volume', 'actual_close']\n",
    "ldf_data = dataobj.get_data(timestamps, symbols, keys)\n",
    "data2008 = dict(zip(keys, ldf_data))\n",
    "\n",
    "#remove NAN from price data\n",
    "for s_key in keys:\n",
    "    data2008[s_key] = data2008[s_key].fillna(method = 'ffill')\n",
    "    data2008[s_key] = data2008[s_key].fillna(method = 'bfill')\n",
    "    data2008[s_key] = data2008[s_key].fillna(1.0)"
   ]
  },
  {
   "cell_type": "markdown",
   "metadata": {},
   "source": [
    "#### Event Matrix"
   ]
  },
  {
   "cell_type": "code",
   "execution_count": 5,
   "metadata": {},
   "outputs": [
    {
     "name": "stdout",
     "output_type": "stream",
     "text": [
      "(331.0, 'events')\n"
     ]
    },
    {
     "data": {
      "text/html": [
       "<div>\n",
       "<style scoped>\n",
       "    .dataframe tbody tr th:only-of-type {\n",
       "        vertical-align: middle;\n",
       "    }\n",
       "\n",
       "    .dataframe tbody tr th {\n",
       "        vertical-align: top;\n",
       "    }\n",
       "\n",
       "    .dataframe thead th {\n",
       "        text-align: right;\n",
       "    }\n",
       "</style>\n",
       "<table border=\"1\" class=\"dataframe\">\n",
       "  <thead>\n",
       "    <tr style=\"text-align: right;\">\n",
       "      <th></th>\n",
       "      <th>FMCC</th>\n",
       "      <th>FNMA</th>\n",
       "      <th>A</th>\n",
       "      <th>AA</th>\n",
       "      <th>AAPL</th>\n",
       "      <th>ABC</th>\n",
       "      <th>ABI</th>\n",
       "      <th>ABKFQ</th>\n",
       "      <th>ABT</th>\n",
       "      <th>ACAS</th>\n",
       "      <th>...</th>\n",
       "      <th>XL</th>\n",
       "      <th>XLNX</th>\n",
       "      <th>XOM</th>\n",
       "      <th>XRX</th>\n",
       "      <th>XTO</th>\n",
       "      <th>YHOO</th>\n",
       "      <th>YUM</th>\n",
       "      <th>ZION</th>\n",
       "      <th>ZMH</th>\n",
       "      <th>SPY</th>\n",
       "    </tr>\n",
       "  </thead>\n",
       "  <tbody>\n",
       "    <tr>\n",
       "      <th>2008-01-02 16:00:00</th>\n",
       "      <td>NaN</td>\n",
       "      <td>NaN</td>\n",
       "      <td>NaN</td>\n",
       "      <td>NaN</td>\n",
       "      <td>NaN</td>\n",
       "      <td>NaN</td>\n",
       "      <td>NaN</td>\n",
       "      <td>NaN</td>\n",
       "      <td>NaN</td>\n",
       "      <td>NaN</td>\n",
       "      <td>...</td>\n",
       "      <td>NaN</td>\n",
       "      <td>NaN</td>\n",
       "      <td>NaN</td>\n",
       "      <td>NaN</td>\n",
       "      <td>NaN</td>\n",
       "      <td>NaN</td>\n",
       "      <td>NaN</td>\n",
       "      <td>NaN</td>\n",
       "      <td>NaN</td>\n",
       "      <td>NaN</td>\n",
       "    </tr>\n",
       "    <tr>\n",
       "      <th>2008-01-03 16:00:00</th>\n",
       "      <td>NaN</td>\n",
       "      <td>NaN</td>\n",
       "      <td>NaN</td>\n",
       "      <td>NaN</td>\n",
       "      <td>NaN</td>\n",
       "      <td>NaN</td>\n",
       "      <td>NaN</td>\n",
       "      <td>NaN</td>\n",
       "      <td>NaN</td>\n",
       "      <td>NaN</td>\n",
       "      <td>...</td>\n",
       "      <td>NaN</td>\n",
       "      <td>NaN</td>\n",
       "      <td>NaN</td>\n",
       "      <td>NaN</td>\n",
       "      <td>NaN</td>\n",
       "      <td>NaN</td>\n",
       "      <td>NaN</td>\n",
       "      <td>NaN</td>\n",
       "      <td>NaN</td>\n",
       "      <td>NaN</td>\n",
       "    </tr>\n",
       "    <tr>\n",
       "      <th>2008-01-04 16:00:00</th>\n",
       "      <td>NaN</td>\n",
       "      <td>NaN</td>\n",
       "      <td>NaN</td>\n",
       "      <td>NaN</td>\n",
       "      <td>NaN</td>\n",
       "      <td>NaN</td>\n",
       "      <td>NaN</td>\n",
       "      <td>NaN</td>\n",
       "      <td>NaN</td>\n",
       "      <td>NaN</td>\n",
       "      <td>...</td>\n",
       "      <td>NaN</td>\n",
       "      <td>NaN</td>\n",
       "      <td>NaN</td>\n",
       "      <td>NaN</td>\n",
       "      <td>NaN</td>\n",
       "      <td>NaN</td>\n",
       "      <td>NaN</td>\n",
       "      <td>NaN</td>\n",
       "      <td>NaN</td>\n",
       "      <td>NaN</td>\n",
       "    </tr>\n",
       "    <tr>\n",
       "      <th>2008-01-07 16:00:00</th>\n",
       "      <td>NaN</td>\n",
       "      <td>NaN</td>\n",
       "      <td>NaN</td>\n",
       "      <td>NaN</td>\n",
       "      <td>NaN</td>\n",
       "      <td>NaN</td>\n",
       "      <td>NaN</td>\n",
       "      <td>NaN</td>\n",
       "      <td>NaN</td>\n",
       "      <td>NaN</td>\n",
       "      <td>...</td>\n",
       "      <td>NaN</td>\n",
       "      <td>NaN</td>\n",
       "      <td>NaN</td>\n",
       "      <td>NaN</td>\n",
       "      <td>NaN</td>\n",
       "      <td>NaN</td>\n",
       "      <td>NaN</td>\n",
       "      <td>NaN</td>\n",
       "      <td>NaN</td>\n",
       "      <td>NaN</td>\n",
       "    </tr>\n",
       "    <tr>\n",
       "      <th>2008-01-08 16:00:00</th>\n",
       "      <td>NaN</td>\n",
       "      <td>NaN</td>\n",
       "      <td>NaN</td>\n",
       "      <td>NaN</td>\n",
       "      <td>NaN</td>\n",
       "      <td>NaN</td>\n",
       "      <td>NaN</td>\n",
       "      <td>NaN</td>\n",
       "      <td>NaN</td>\n",
       "      <td>NaN</td>\n",
       "      <td>...</td>\n",
       "      <td>NaN</td>\n",
       "      <td>NaN</td>\n",
       "      <td>NaN</td>\n",
       "      <td>NaN</td>\n",
       "      <td>NaN</td>\n",
       "      <td>NaN</td>\n",
       "      <td>NaN</td>\n",
       "      <td>NaN</td>\n",
       "      <td>NaN</td>\n",
       "      <td>NaN</td>\n",
       "    </tr>\n",
       "  </tbody>\n",
       "</table>\n",
       "<p>5 rows × 493 columns</p>\n",
       "</div>"
      ],
      "text/plain": [
       "                     FMCC  FNMA   A  AA  AAPL  ABC  ABI  ABKFQ  ABT  ACAS  \\\n",
       "2008-01-02 16:00:00   NaN   NaN NaN NaN   NaN  NaN  NaN    NaN  NaN   NaN   \n",
       "2008-01-03 16:00:00   NaN   NaN NaN NaN   NaN  NaN  NaN    NaN  NaN   NaN   \n",
       "2008-01-04 16:00:00   NaN   NaN NaN NaN   NaN  NaN  NaN    NaN  NaN   NaN   \n",
       "2008-01-07 16:00:00   NaN   NaN NaN NaN   NaN  NaN  NaN    NaN  NaN   NaN   \n",
       "2008-01-08 16:00:00   NaN   NaN NaN NaN   NaN  NaN  NaN    NaN  NaN   NaN   \n",
       "\n",
       "                    ...   XL  XLNX  XOM  XRX  XTO  YHOO  YUM  ZION  ZMH  SPY  \n",
       "2008-01-02 16:00:00 ...  NaN   NaN  NaN  NaN  NaN   NaN  NaN   NaN  NaN  NaN  \n",
       "2008-01-03 16:00:00 ...  NaN   NaN  NaN  NaN  NaN   NaN  NaN   NaN  NaN  NaN  \n",
       "2008-01-04 16:00:00 ...  NaN   NaN  NaN  NaN  NaN   NaN  NaN   NaN  NaN  NaN  \n",
       "2008-01-07 16:00:00 ...  NaN   NaN  NaN  NaN  NaN   NaN  NaN   NaN  NaN  NaN  \n",
       "2008-01-08 16:00:00 ...  NaN   NaN  NaN  NaN  NaN   NaN  NaN   NaN  NaN  NaN  \n",
       "\n",
       "[5 rows x 493 columns]"
      ]
     },
     "execution_count": 5,
     "metadata": {},
     "output_type": "execute_result"
    }
   ],
   "source": [
    "df_events08 = event5(data2008['actual_close'])\n",
    "print(df_events08.sum().sum(), 'events')\n",
    "df_events08.head()"
   ]
  },
  {
   "cell_type": "markdown",
   "metadata": {},
   "source": [
    "#### Plot"
   ]
  },
  {
   "cell_type": "code",
   "execution_count": 6,
   "metadata": {
    "scrolled": true
   },
   "outputs": [
    {
     "data": {
      "image/png": "[encoded data removed]",
      "text/plain": [
       "<matplotlib.figure.Figure at 0x7ff3da399950>"
      ]
     },
     "metadata": {},
     "output_type": "display_data"
    }
   ],
   "source": [
    "ep.eventprofiler(df_events08, data2008, i_lookback=20, i_lookforward=20,\n",
    "                 b_market_neutral=True, b_errorbars=True, s_market_sym='SPY')"
   ]
  },
  {
   "cell_type": "markdown",
   "metadata": {},
   "source": [
    "## S&P 500 stocks 2012:\n",
    "#### Get data:"
   ]
  },
  {
   "cell_type": "code",
   "execution_count": 7,
   "metadata": {},
   "outputs": [],
   "source": [
    "#date\n",
    "startdate = dt.datetime(2008, 1, 1) \n",
    "enddate = dt.datetime(2009, 12, 31)\n",
    "dt_timeofday = dt.timedelta(hours=16)\n",
    "timestamps = du.getNYSEdays(startdate, enddate, dt_timeofday)\n",
    "\n",
    "#data\n",
    "symbols =  dataobj.get_symbols_from_list(\"sp5002012\")\n",
    "symbols.append('SPY')\n",
    "keys = ['open', 'high', 'low', 'close', 'volume', 'actual_close']\n",
    "ldf_data = dataobj.get_data(timestamps, symbols, keys)\n",
    "data2012 = dict(zip(keys, ldf_data))\n",
    "\n",
    "#remove NAN from price data\n",
    "for s_key in keys:\n",
    "    data2012[s_key] = data2012[s_key].fillna(method = 'ffill')\n",
    "    data2012[s_key] = data2012[s_key].fillna(method = 'bfill')\n",
    "    data2012[s_key] = data2012[s_key].fillna(1.0)"
   ]
  },
  {
   "cell_type": "markdown",
   "metadata": {},
   "source": [
    "#### Event Matrix"
   ]
  },
  {
   "cell_type": "code",
   "execution_count": 8,
   "metadata": {},
   "outputs": [
    {
     "name": "stdout",
     "output_type": "stream",
     "text": [
      "(180.0, 'events')\n"
     ]
    },
    {
     "data": {
      "text/html": [
       "<div>\n",
       "<style scoped>\n",
       "    .dataframe tbody tr th:only-of-type {\n",
       "        vertical-align: middle;\n",
       "    }\n",
       "\n",
       "    .dataframe tbody tr th {\n",
       "        vertical-align: top;\n",
       "    }\n",
       "\n",
       "    .dataframe thead th {\n",
       "        text-align: right;\n",
       "    }\n",
       "</style>\n",
       "<table border=\"1\" class=\"dataframe\">\n",
       "  <thead>\n",
       "    <tr style=\"text-align: right;\">\n",
       "      <th></th>\n",
       "      <th>A</th>\n",
       "      <th>AA</th>\n",
       "      <th>AAPL</th>\n",
       "      <th>ABC</th>\n",
       "      <th>ABT</th>\n",
       "      <th>ACE</th>\n",
       "      <th>ACN</th>\n",
       "      <th>ADBE</th>\n",
       "      <th>ADI</th>\n",
       "      <th>ADM</th>\n",
       "      <th>...</th>\n",
       "      <th>XLNX</th>\n",
       "      <th>XOM</th>\n",
       "      <th>XRAY</th>\n",
       "      <th>XRX</th>\n",
       "      <th>XYL</th>\n",
       "      <th>YHOO</th>\n",
       "      <th>YUM</th>\n",
       "      <th>ZION</th>\n",
       "      <th>ZMH</th>\n",
       "      <th>SPY</th>\n",
       "    </tr>\n",
       "  </thead>\n",
       "  <tbody>\n",
       "    <tr>\n",
       "      <th>2008-01-02 16:00:00</th>\n",
       "      <td>NaN</td>\n",
       "      <td>NaN</td>\n",
       "      <td>NaN</td>\n",
       "      <td>NaN</td>\n",
       "      <td>NaN</td>\n",
       "      <td>NaN</td>\n",
       "      <td>NaN</td>\n",
       "      <td>NaN</td>\n",
       "      <td>NaN</td>\n",
       "      <td>NaN</td>\n",
       "      <td>...</td>\n",
       "      <td>NaN</td>\n",
       "      <td>NaN</td>\n",
       "      <td>NaN</td>\n",
       "      <td>NaN</td>\n",
       "      <td>NaN</td>\n",
       "      <td>NaN</td>\n",
       "      <td>NaN</td>\n",
       "      <td>NaN</td>\n",
       "      <td>NaN</td>\n",
       "      <td>NaN</td>\n",
       "    </tr>\n",
       "    <tr>\n",
       "      <th>2008-01-03 16:00:00</th>\n",
       "      <td>NaN</td>\n",
       "      <td>NaN</td>\n",
       "      <td>NaN</td>\n",
       "      <td>NaN</td>\n",
       "      <td>NaN</td>\n",
       "      <td>NaN</td>\n",
       "      <td>NaN</td>\n",
       "      <td>NaN</td>\n",
       "      <td>NaN</td>\n",
       "      <td>NaN</td>\n",
       "      <td>...</td>\n",
       "      <td>NaN</td>\n",
       "      <td>NaN</td>\n",
       "      <td>NaN</td>\n",
       "      <td>NaN</td>\n",
       "      <td>NaN</td>\n",
       "      <td>NaN</td>\n",
       "      <td>NaN</td>\n",
       "      <td>NaN</td>\n",
       "      <td>NaN</td>\n",
       "      <td>NaN</td>\n",
       "    </tr>\n",
       "    <tr>\n",
       "      <th>2008-01-04 16:00:00</th>\n",
       "      <td>NaN</td>\n",
       "      <td>NaN</td>\n",
       "      <td>NaN</td>\n",
       "      <td>NaN</td>\n",
       "      <td>NaN</td>\n",
       "      <td>NaN</td>\n",
       "      <td>NaN</td>\n",
       "      <td>NaN</td>\n",
       "      <td>NaN</td>\n",
       "      <td>NaN</td>\n",
       "      <td>...</td>\n",
       "      <td>NaN</td>\n",
       "      <td>NaN</td>\n",
       "      <td>NaN</td>\n",
       "      <td>NaN</td>\n",
       "      <td>NaN</td>\n",
       "      <td>NaN</td>\n",
       "      <td>NaN</td>\n",
       "      <td>NaN</td>\n",
       "      <td>NaN</td>\n",
       "      <td>NaN</td>\n",
       "    </tr>\n",
       "    <tr>\n",
       "      <th>2008-01-07 16:00:00</th>\n",
       "      <td>NaN</td>\n",
       "      <td>NaN</td>\n",
       "      <td>NaN</td>\n",
       "      <td>NaN</td>\n",
       "      <td>NaN</td>\n",
       "      <td>NaN</td>\n",
       "      <td>NaN</td>\n",
       "      <td>NaN</td>\n",
       "      <td>NaN</td>\n",
       "      <td>NaN</td>\n",
       "      <td>...</td>\n",
       "      <td>NaN</td>\n",
       "      <td>NaN</td>\n",
       "      <td>NaN</td>\n",
       "      <td>NaN</td>\n",
       "      <td>NaN</td>\n",
       "      <td>NaN</td>\n",
       "      <td>NaN</td>\n",
       "      <td>NaN</td>\n",
       "      <td>NaN</td>\n",
       "      <td>NaN</td>\n",
       "    </tr>\n",
       "    <tr>\n",
       "      <th>2008-01-08 16:00:00</th>\n",
       "      <td>NaN</td>\n",
       "      <td>NaN</td>\n",
       "      <td>NaN</td>\n",
       "      <td>NaN</td>\n",
       "      <td>NaN</td>\n",
       "      <td>NaN</td>\n",
       "      <td>NaN</td>\n",
       "      <td>NaN</td>\n",
       "      <td>NaN</td>\n",
       "      <td>NaN</td>\n",
       "      <td>...</td>\n",
       "      <td>NaN</td>\n",
       "      <td>NaN</td>\n",
       "      <td>NaN</td>\n",
       "      <td>NaN</td>\n",
       "      <td>NaN</td>\n",
       "      <td>NaN</td>\n",
       "      <td>NaN</td>\n",
       "      <td>NaN</td>\n",
       "      <td>NaN</td>\n",
       "      <td>NaN</td>\n",
       "    </tr>\n",
       "  </tbody>\n",
       "</table>\n",
       "<p>5 rows × 502 columns</p>\n",
       "</div>"
      ],
      "text/plain": [
       "                      A  AA  AAPL  ABC  ABT  ACE  ACN  ADBE  ADI  ADM ...   \\\n",
       "2008-01-02 16:00:00 NaN NaN   NaN  NaN  NaN  NaN  NaN   NaN  NaN  NaN ...    \n",
       "2008-01-03 16:00:00 NaN NaN   NaN  NaN  NaN  NaN  NaN   NaN  NaN  NaN ...    \n",
       "2008-01-04 16:00:00 NaN NaN   NaN  NaN  NaN  NaN  NaN   NaN  NaN  NaN ...    \n",
       "2008-01-07 16:00:00 NaN NaN   NaN  NaN  NaN  NaN  NaN   NaN  NaN  NaN ...    \n",
       "2008-01-08 16:00:00 NaN NaN   NaN  NaN  NaN  NaN  NaN   NaN  NaN  NaN ...    \n",
       "\n",
       "                     XLNX  XOM  XRAY  XRX  XYL  YHOO  YUM  ZION  ZMH  SPY  \n",
       "2008-01-02 16:00:00   NaN  NaN   NaN  NaN  NaN   NaN  NaN   NaN  NaN  NaN  \n",
       "2008-01-03 16:00:00   NaN  NaN   NaN  NaN  NaN   NaN  NaN   NaN  NaN  NaN  \n",
       "2008-01-04 16:00:00   NaN  NaN   NaN  NaN  NaN   NaN  NaN   NaN  NaN  NaN  \n",
       "2008-01-07 16:00:00   NaN  NaN   NaN  NaN  NaN   NaN  NaN   NaN  NaN  NaN  \n",
       "2008-01-08 16:00:00   NaN  NaN   NaN  NaN  NaN   NaN  NaN   NaN  NaN  NaN  \n",
       "\n",
       "[5 rows x 502 columns]"
      ]
     },
     "execution_count": 8,
     "metadata": {},
     "output_type": "execute_result"
    }
   ],
   "source": [
    "df_events12 = event5(data2012['actual_close'],cut_off = 5)\n",
    "print(df_events12.sum().sum(), 'events')\n",
    "df_events12.head()"
   ]
  },
  {
   "cell_type": "markdown",
   "metadata": {},
   "source": [
    "#### Plot"
   ]
  },
  {
   "cell_type": "code",
   "execution_count": 9,
   "metadata": {},
   "outputs": [
    {
     "data": {
      "image/png": "[encoded data removed]",
      "text/plain": [
       "<matplotlib.figure.Figure at 0x7ff408780850>"
      ]
     },
     "metadata": {},
     "output_type": "display_data"
    }
   ],
   "source": [
    "ep.eventprofiler(df_events12, data2012, i_lookback=20, i_lookforward=20,\n",
    "                b_market_neutral=True, b_errorbars=True, s_market_sym='SPY')"
   ]
  },
  {
   "cell_type": "markdown",
   "metadata": {},
   "source": [
    "## Extra challenges\n",
    "Find the best cut-off price to maximize the return 5 days after the event."
   ]
  },
  {
   "cell_type": "code",
   "execution_count": 10,
   "metadata": {},
   "outputs": [],
   "source": [
    "from scipy.optimize import minimize"
   ]
  },
  {
   "cell_type": "markdown",
   "metadata": {},
   "source": [
    "Get std/mean of all returns in 'days=5' days after the event. <br>\n",
    "The less return is the best."
   ]
  },
  {
   "cell_type": "code",
   "execution_count": 11,
   "metadata": {},
   "outputs": [],
   "source": [
    "def meanReturn5days(df_events_arg,data,days = 5):\n",
    "    #copys\n",
    "    df_events = df_events_arg.copy()\n",
    "    closes = data['close'].copy()\n",
    "    \n",
    "    # Removing the starting and the end events\n",
    "    df_events.iloc[0:days] = np.NaN\n",
    "    df_events.iloc[-days:] = np.NaN\n",
    "    \n",
    "    # Get all returns in 'days' days after the event\n",
    "    ls_ret = list()\n",
    "    for i, s_sym in enumerate(df_events.columns):\n",
    "        for j, dt_date in enumerate(df_events.index):\n",
    "            if df_events[s_sym][dt_date] == 1:\n",
    "                ls_ret.append(closes[s_sym][j + days])\n",
    "    \n",
    "    return np.std(ls_ret)/np.mean(ls_ret)"
   ]
  },
  {
   "cell_type": "markdown",
   "metadata": {},
   "source": [
    "Function to minimize:"
   ]
  },
  {
   "cell_type": "code",
   "execution_count": 12,
   "metadata": {},
   "outputs": [],
   "source": [
    "def f(x,data):\n",
    "    df_events = event5(data['actual_close'],cut_off = x)\n",
    "    return meanReturn5days(df_events,data)"
   ]
  },
  {
   "cell_type": "code",
   "execution_count": 13,
   "metadata": {},
   "outputs": [
    {
     "name": "stdout",
     "output_type": "stream",
     "text": [
      "Optimization terminated successfully.\n",
      "         Current function value: 0.966832\n",
      "         Iterations: 17\n",
      "         Function evaluations: 40\n",
      "CPU times: user 4min 20s, sys: 816 ms, total: 4min 21s\n",
      "Wall time: 4min 19s\n"
     ]
    }
   ],
   "source": [
    "%%time\n",
    "x0 = 5\n",
    "res = minimize(f, x0, args = data2012, method='Nelder-Mead',\n",
    "            options={'maxiter': 100, 'disp': True})"
   ]
  },
  {
   "cell_type": "markdown",
   "metadata": {},
   "source": [
    "Result:"
   ]
  },
  {
   "cell_type": "code",
   "execution_count": 14,
   "metadata": {},
   "outputs": [
    {
     "data": {
      "text/plain": [
       "6.4375"
      ]
     },
     "execution_count": 14,
     "metadata": {},
     "output_type": "execute_result"
    }
   ],
   "source": [
    "res.x[0]"
   ]
  },
  {
   "cell_type": "code",
   "execution_count": 15,
   "metadata": {},
   "outputs": [
    {
     "data": {
      "image/png": "[encoded data removed]",
      "text/plain": [
       "<matplotlib.figure.Figure at 0x7ff3d2a3bdd0>"
      ]
     },
     "metadata": {},
     "output_type": "display_data"
    }
   ],
   "source": [
    "df_events = event5(data2012['actual_close'],cut_off = res.x[0])\n",
    "ep.eventprofiler(df_events, data2012, i_lookback=20, i_lookforward=20,\n",
    "                b_market_neutral=True, b_errorbars=True, s_market_sym='SPY')"
   ]
  },
  {
   "cell_type": "code",
   "execution_count": null,
   "metadata": {},
   "outputs": [],
   "source": []
  }
 ],
 "metadata": {
  "kernelspec": {
   "display_name": "Python 3",
   "language": "python",
   "name": "python3"
  },
  "language_info": {
   "codemirror_mode": {
    "name": "ipython",
    "version": 2
   },
   "file_extension": ".py",
   "mimetype": "text/x-python",
   "name": "python",
   "nbconvert_exporter": "python",
   "pygments_lexer": "ipython2",
   "version": "2.7.14"
  }
 },
 "nbformat": 4,
 "nbformat_minor": 2
}
