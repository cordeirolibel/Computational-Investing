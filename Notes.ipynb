{
 "cells": [
  {
   "cell_type": "markdown",
   "metadata": {},
   "source": [
    "# Computational Investing, Part I\n",
    "\n",
    "Curso: https://www.coursera.org/learn/computational-investing <br>\n",
    "Material: http://wiki.quantsoftware.org/index.php?title=QuantSoftware_ToolKit"
   ]
  },
  {
   "cell_type": "markdown",
   "metadata": {},
   "source": [
    "## Terms:\n",
    "\n",
    "__Return:__ $r =\\dfrac{value_{end}}{value_{start}}-1\\ [\\%]$ \n",
    "\n",
    "__Daily Return:__ $r_d = \\dfrac{value_{end}}{value_{start}}-1\\ [\\%]$ Retorno diario.\n",
    "\n",
    "__STDEV:__ $\\sigma_d = stdev(d_r)$ Desvio Padrão do retorno diario.\n",
    "\n",
    "__D-down:__ Maior variação para baixo, ultimo pico é 100%, encontrar o vale de menor porcentagem.\n",
    "\n",
    "__Sharpe Ratio:__ $S = \\dfrac{k*\\overline{r_d}}{\\sigma_d}$, $k$ = for trading days = $\\sqrt{250}$. Relação de retorno por risco (maior melhor)."
   ]
  },
  {
   "cell_type": "markdown",
   "metadata": {},
   "source": [
    "## CAPM\n",
    "\n",
    "Valor de uma empresa = $\\dfrac{dividend}{1-\\gamma}$\n",
    "\n",
    "$r_i(t) = \\beta_ir_m(t)+\\alpha_i$ linear regression of particular stock return ($r_i$) by market return ($r_m$).\n",
    "\n",
    "corr_coef: [-1,1] correlation of $r_m$ and $r_i$.\n",
    "\n",
    "$r_p =\\sum \\omega_ir_i$ return of a portifolio ($r_p$), if we have \\$400 in IBM and \\$600 in XOM then $\\omega_{IBM}=0.4$ and $\\omega_{XOM}=0.6$. \n",
    "\n",
    "$\\beta_p =\\sum \\omega_i\\beta_i$ beta of portifolio ($\\beta_p$), greater is more risk.\n",
    "\n",
    "Efficient-market hypothesis: https://en.wikipedia.org/wiki/Efficient-market_hypothesis"
   ]
  },
  {
   "cell_type": "code",
   "execution_count": null,
   "metadata": {},
   "outputs": [],
   "source": []
  }
 ],
 "metadata": {
  "kernelspec": {
   "display_name": "Python 3",
   "language": "python",
   "name": "python3"
  },
  "language_info": {
   "codemirror_mode": {
    "name": "ipython",
    "version": 2
   },
   "file_extension": ".py",
   "mimetype": "text/x-python",
   "name": "python",
   "nbconvert_exporter": "python",
   "pygments_lexer": "ipython2",
   "version": "2.7.14"
  }
 },
 "nbformat": 4,
 "nbformat_minor": 2
}
